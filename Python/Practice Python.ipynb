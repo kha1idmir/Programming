{
 "cells": [
  {
   "cell_type": "markdown",
   "id": "0b41ef75",
   "metadata": {},
   "source": [
    "Numbers in Python and Basic Arithmetic Operations"
   ]
  },
  {
   "cell_type": "code",
   "execution_count": 2,
   "id": "3dda5c92",
   "metadata": {},
   "outputs": [
    {
     "data": {
      "text/plain": [
       "2"
      ]
     },
     "execution_count": 2,
     "metadata": {},
     "output_type": "execute_result"
    }
   ],
   "source": [
    "#integers \n",
    "2"
   ]
  },
  {
   "cell_type": "code",
   "execution_count": 3,
   "id": "c060b83e",
   "metadata": {},
   "outputs": [
    {
     "data": {
      "text/plain": [
       "-1"
      ]
     },
     "execution_count": 3,
     "metadata": {},
     "output_type": "execute_result"
    }
   ],
   "source": [
    "-1"
   ]
  },
  {
   "cell_type": "code",
   "execution_count": 4,
   "id": "cf6ec281",
   "metadata": {},
   "outputs": [
    {
     "data": {
      "text/plain": [
       "2.3"
      ]
     },
     "execution_count": 4,
     "metadata": {},
     "output_type": "execute_result"
    }
   ],
   "source": [
    "#floating point numbers\n",
    "2.3"
   ]
  },
  {
   "cell_type": "code",
   "execution_count": 5,
   "id": "0d481f96",
   "metadata": {},
   "outputs": [
    {
     "data": {
      "text/plain": [
       "5000000.0"
      ]
     },
     "execution_count": 5,
     "metadata": {},
     "output_type": "execute_result"
    }
   ],
   "source": [
    "5E6"
   ]
  },
  {
   "cell_type": "code",
   "execution_count": 6,
   "id": "dd165278",
   "metadata": {},
   "outputs": [
    {
     "data": {
      "text/plain": [
       "0.04"
      ]
     },
     "execution_count": 6,
     "metadata": {},
     "output_type": "execute_result"
    }
   ],
   "source": [
    "4E-2"
   ]
  },
  {
   "cell_type": "code",
   "execution_count": 7,
   "id": "b1882cf5",
   "metadata": {},
   "outputs": [
    {
     "data": {
      "text/plain": [
       "9"
      ]
     },
     "execution_count": 7,
     "metadata": {},
     "output_type": "execute_result"
    }
   ],
   "source": [
    "#addition\n",
    "2 + 7"
   ]
  },
  {
   "cell_type": "code",
   "execution_count": 8,
   "id": "6955b991",
   "metadata": {},
   "outputs": [
    {
     "data": {
      "text/plain": [
       "14"
      ]
     },
     "execution_count": 8,
     "metadata": {},
     "output_type": "execute_result"
    }
   ],
   "source": [
    "#subtraction\n",
    "23 - 9"
   ]
  },
  {
   "cell_type": "code",
   "execution_count": 9,
   "id": "a06779d5",
   "metadata": {},
   "outputs": [
    {
     "data": {
      "text/plain": [
       "24"
      ]
     },
     "execution_count": 9,
     "metadata": {},
     "output_type": "execute_result"
    }
   ],
   "source": [
    "#multiplication\n",
    "4*6"
   ]
  },
  {
   "cell_type": "code",
   "execution_count": 11,
   "id": "f1b4dde8",
   "metadata": {},
   "outputs": [
    {
     "data": {
      "text/plain": [
       "1.6"
      ]
     },
     "execution_count": 11,
     "metadata": {},
     "output_type": "execute_result"
    }
   ],
   "source": [
    "#division\n",
    "8/5"
   ]
  },
  {
   "cell_type": "code",
   "execution_count": 12,
   "id": "156e6530",
   "metadata": {},
   "outputs": [
    {
     "data": {
      "text/plain": [
       "243"
      ]
     },
     "execution_count": 12,
     "metadata": {},
     "output_type": "execute_result"
    }
   ],
   "source": [
    "#power\n",
    "3**5"
   ]
  },
  {
   "cell_type": "code",
   "execution_count": 14,
   "id": "c8f244c3",
   "metadata": {},
   "outputs": [
    {
     "data": {
      "text/plain": [
       "2"
      ]
     },
     "execution_count": 14,
     "metadata": {},
     "output_type": "execute_result"
    }
   ],
   "source": [
    "#modulus function\n",
    "7%5"
   ]
  },
  {
   "cell_type": "code",
   "execution_count": 16,
   "id": "5bcfa9fc",
   "metadata": {},
   "outputs": [
    {
     "data": {
      "text/plain": [
       "4"
      ]
     },
     "execution_count": 16,
     "metadata": {},
     "output_type": "execute_result"
    }
   ],
   "source": [
    "#floor function it returns only integer part of output\n",
    "9//2"
   ]
  },
  {
   "cell_type": "code",
   "execution_count": 17,
   "id": "d739ed81",
   "metadata": {},
   "outputs": [
    {
     "data": {
      "text/plain": [
       "47"
      ]
     },
     "execution_count": 17,
     "metadata": {},
     "output_type": "execute_result"
    }
   ],
   "source": [
    "#operations in combine\n",
    "8 + 7*6 - 3"
   ]
  },
  {
   "cell_type": "code",
   "execution_count": 19,
   "id": "b8402ccc",
   "metadata": {},
   "outputs": [
    {
     "data": {
      "text/plain": [
       "2.0"
      ]
     },
     "execution_count": 19,
     "metadata": {},
     "output_type": "execute_result"
    }
   ],
   "source": [
    "(2*4) + 8/4 - 2**3 "
   ]
  },
  {
   "cell_type": "code",
   "execution_count": 20,
   "id": "68d9fd17",
   "metadata": {},
   "outputs": [],
   "source": [
    "#using variables for arithmetic operations\n",
    "a=8\n",
    "b=6\n",
    "c= a + b"
   ]
  },
  {
   "cell_type": "code",
   "execution_count": 21,
   "id": "5106759a",
   "metadata": {},
   "outputs": [
    {
     "data": {
      "text/plain": [
       "14"
      ]
     },
     "execution_count": 21,
     "metadata": {},
     "output_type": "execute_result"
    }
   ],
   "source": [
    "c"
   ]
  },
  {
   "cell_type": "code",
   "execution_count": 24,
   "id": "156857c7",
   "metadata": {},
   "outputs": [],
   "source": [
    "c= 12  #python allows to write over variables"
   ]
  },
  {
   "cell_type": "code",
   "execution_count": 25,
   "id": "0a7f2377",
   "metadata": {},
   "outputs": [
    {
     "data": {
      "text/plain": [
       "12"
      ]
     },
     "execution_count": 25,
     "metadata": {},
     "output_type": "execute_result"
    }
   ],
   "source": [
    "c "
   ]
  },
  {
   "cell_type": "code",
   "execution_count": 26,
   "id": "3cef3140",
   "metadata": {},
   "outputs": [],
   "source": [
    "c = c + c"
   ]
  },
  {
   "cell_type": "code",
   "execution_count": 27,
   "id": "5ba046d3",
   "metadata": {},
   "outputs": [
    {
     "data": {
      "text/plain": [
       "24"
      ]
     },
     "execution_count": 27,
     "metadata": {},
     "output_type": "execute_result"
    }
   ],
   "source": [
    "c"
   ]
  },
  {
   "cell_type": "markdown",
   "id": "9d1cecd2",
   "metadata": {},
   "source": [
    "Rules for creating variables\n",
    "1. Not  to start with number\n",
    "2. avoid using names that have special usage in python e.g str, len, type etc\n",
    "3. no spaces in name of variable\n",
    "4. avoid using symbols that are used in python\n",
    "5. best practice is to use lowercase"
   ]
  }
 ],
 "metadata": {
  "kernelspec": {
   "display_name": "Python 3 (ipykernel)",
   "language": "python",
   "name": "python3"
  },
  "language_info": {
   "codemirror_mode": {
    "name": "ipython",
    "version": 3
   },
   "file_extension": ".py",
   "mimetype": "text/x-python",
   "name": "python",
   "nbconvert_exporter": "python",
   "pygments_lexer": "ipython3",
   "version": "3.9.7"
  }
 },
 "nbformat": 4,
 "nbformat_minor": 5
}
